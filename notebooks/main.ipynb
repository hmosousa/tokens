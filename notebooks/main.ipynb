{
 "cells": [
  {
   "cell_type": "markdown",
   "metadata": {},
   "source": [
    "# Tokenizer test\n",
    "\n",
    "This notebook serves to test the behaviour of a tokenizer trained in english in portuguese text. "
   ]
  },
  {
   "cell_type": "code",
   "execution_count": 1,
   "metadata": {},
   "outputs": [
    {
     "name": "stderr",
     "output_type": "stream",
     "text": [
      "/Users/hugosousa/Projects/tokens/.conda/lib/python3.11/site-packages/tqdm/auto.py:21: TqdmWarning: IProgress not found. Please update jupyter and ipywidgets. See https://ipywidgets.readthedocs.io/en/stable/user_install.html\n",
      "  from .autonotebook import tqdm as notebook_tqdm\n"
     ]
    }
   ],
   "source": [
    "from pathlib import Path\n",
    "\n",
    "import torch\n",
    "from transformers import AutoTokenizer, AutoModelForCausalLM\n",
    "\n",
    "from src.utils import compute_perplexity, train_tokenizer\n",
    "\n",
    "\n",
    "DATA_DIR = Path(\"data\")\n",
    "RESOURCES_DIR = Path(\"resources\")\n",
    "MODEL = \"microsoft/phi-1_5\""
   ]
  },
  {
   "cell_type": "code",
   "execution_count": 64,
   "metadata": {},
   "outputs": [],
   "source": [
    "llm = AutoModelForCausalLM.from_pretrained(MODEL)\n",
    "tokenizer = AutoTokenizer.from_pretrained(MODEL)"
   ]
  },
  {
   "cell_type": "code",
   "execution_count": 3,
   "metadata": {},
   "outputs": [
    {
     "data": {
      "text/plain": [
       "['Hello', ',', 'ĠI', \"'m\", 'Ġa', 'Ġsingle', 'Ġsentence', '!']"
      ]
     },
     "execution_count": 3,
     "metadata": {},
     "output_type": "execute_result"
    }
   ],
   "source": [
    "en_tkns = tokenizer.tokenize(\"Hello, I'm a single sentence!\")\n",
    "en_tkns"
   ]
  },
  {
   "cell_type": "markdown",
   "metadata": {},
   "source": [
    "Spaces are converted in a special character (the Ġ ) in the tokenizer prior to BPE splitting mostly to avoid digesting spaces since the standard BPE algorithm used spaces in its process. [link](https://discuss.huggingface.co/t/bpe-tokenizers-and-spaces-before-words/475/2?u=joaogante)"
   ]
  },
  {
   "cell_type": "code",
   "execution_count": 4,
   "metadata": {},
   "outputs": [
    {
     "data": {
      "text/plain": [
       "['Ol',\n",
       " 'Ã¡',\n",
       " ',',\n",
       " 'Ġe',\n",
       " 'u',\n",
       " 'Ġsou',\n",
       " 'Ġu',\n",
       " 'ma',\n",
       " 'Ġfr',\n",
       " 'ase',\n",
       " 'Ġsim',\n",
       " 'ples',\n",
       " '!']"
      ]
     },
     "execution_count": 4,
     "metadata": {},
     "output_type": "execute_result"
    }
   ],
   "source": [
    "pt_tkns = tokenizer.tokenize(\"Olá, eu sou uma frase simples!\")\n",
    "pt_tkns"
   ]
  },
  {
   "cell_type": "markdown",
   "metadata": {},
   "source": [
    "Note that the tokenizer splited the word `\"eu\"` into `\"Ġe\"` and `\"u\"` which is strange, since the `\"eu\"` is a very common word in Portuguese. Also note that the word `\"sentence\"` is keepet as a unique token while its equivilant in portugueses `\"frase\"` is splited into two tokens `\"Ġfr\"` and `\"ase\"`."
   ]
  },
  {
   "cell_type": "code",
   "execution_count": 5,
   "metadata": {},
   "outputs": [
    {
     "name": "stdout",
     "output_type": "stream",
     "text": [
      "Number of tokens in English: 8\n",
      "Number of tokens in Portuguese: 13\n"
     ]
    }
   ],
   "source": [
    "print(f\"Number of tokens in English: {len(en_tkns)}\")\n",
    "print(f\"Number of tokens in Portuguese: {len(pt_tkns)}\")"
   ]
  },
  {
   "cell_type": "markdown",
   "metadata": {},
   "source": [
    "As a last remark, note that the number of tokens produced for the portuguese sentence is almost double the aomount of tokens produced for english. This is problem in the efeciency of the system as it requires much more compute to produce the text in portuguese than the text in english.\n",
    "\n",
    "Is there any way to limit this phenomne?"
   ]
  },
  {
   "cell_type": "markdown",
   "metadata": {},
   "source": [
    "## Compute Preplexity"
   ]
  },
  {
   "cell_type": "code",
   "execution_count": 6,
   "metadata": {},
   "outputs": [
    {
     "name": "stdout",
     "output_type": "stream",
     "text": [
      "Perplexity of English: 28.975448608398438\n",
      "Perplexity of Portuguese: 160.80172729492188\n"
     ]
    }
   ],
   "source": [
    "ppl_en = compute_perplexity(llm, tokenizer, \"Hello, I'm a single sentence!\")\n",
    "ppl_pt = compute_perplexity(llm, tokenizer, \"Olá, eu sou uma frase simples!\")\n",
    "print(f\"Perplexity of English: {ppl_en}\")\n",
    "print(f\"Perplexity of Portuguese: {ppl_pt}\")"
   ]
  },
  {
   "cell_type": "markdown",
   "metadata": {},
   "source": [
    "The portuguese sentence has a lower preplexity than the english sentence meaning that the sequence of words in the portuguesese sentence is less surprising than sequence of words in the english sentence. This is expected as the preplexity mesuare is used to evaluate how well the language model learned the training set. Since the phi model was only trained on english text it is normal that the portuguese text to have a much higher preplexity. The question is: can we further maintain or lower this value of preplexity for the portuguese text while lowering the amount of tokens generated?\n",
    "\n",
    "As a first approach let's test the following approach. We will start by selecting a portuguese corpus (lusa news probably). Second we will compute the preplexity of the phi-2 model on that corpus. This will give us a baseline to take as a reference. As a third step, we will train a tokenizer on the portuguse corpus. Then, we will check the tokens that are on the new vocabolary that were missing in the original one. The following step is to access what is the best way to cerate the embeddings for this new tokens to the orignal tokenizer so that the preplexity of the model gets lower on the portuguese corpus.\n",
    "\n",
    "The stratagy to create the new embeddings migth be by employing an aggregation strategy or by training the model. "
   ]
  },
  {
   "cell_type": "markdown",
   "metadata": {},
   "source": [
    "## Train the tokenizer in Portuguese text"
   ]
  },
  {
   "cell_type": "markdown",
   "metadata": {},
   "source": [
    "### Read data"
   ]
  },
  {
   "cell_type": "code",
   "execution_count": 7,
   "metadata": {},
   "outputs": [
    {
     "name": "stdout",
     "output_type": "stream",
     "text": [
      "                                        Câmara dos Senhores Deputados da Nação Portugueza 1822-1910\n",
      "                                Câmara dos Senhores Deputados da Nação Portugueza 1822-1910\n",
      "                        O texto apresentado é obtido de forma automática, não levando em conta elementos gráficos e podendo conter erros. Se encontrar algum erro, por favor informe os serviços através da página de contactos.\n",
      "II Série — Número 104Quarta-feira, 26 de Junho de 1985DIÁRIOda Assembleia da RepúblicaIII LEGISLATURA2.a SESSÃO LEGISLATIVA (1984-1985)SUMÁRIOPropostas da lei:N.° 107/III [autoriza o Governo, através do Ministério das Finanças e do Plano, a contrair junto do Banco Internacional para a Reconstrução e Desenvolvimento (BIRD) um empréstimo externo até ao montante glo-bal equivalente a 66 milhões dc dólares dos Estados Unidos da América]:Relatório e parecer da Comissão de Economia, Finanças e Plano sobre a proposta de lei.N.° 108/111 (cooperação fi\n"
     ]
    }
   ],
   "source": [
    "corpus = (DATA_DIR / \"sample.txt\").read_text()\n",
    "print(corpus[:1000])"
   ]
  },
  {
   "cell_type": "code",
   "execution_count": 8,
   "metadata": {},
   "outputs": [
    {
     "name": "stdout",
     "output_type": "stream",
     "text": [
      "Number of lines: 1000\n",
      "Number of unique lines 927\n"
     ]
    }
   ],
   "source": [
    "lines = corpus.split(\"\\n\")\n",
    "print(f\"Number of lines: {len(lines)}\")\n",
    "\n",
    "lines = list(set(lines))\n",
    "lines = [line.strip() for line in lines if line.strip()]\n",
    "print(f\"Number of unique lines {len(set(lines))}\")"
   ]
  },
  {
   "cell_type": "code",
   "execution_count": 9,
   "metadata": {},
   "outputs": [
    {
     "name": "stdout",
     "output_type": "stream",
     "text": [
      "984-(24)II SÉRIE — NÚMERO 39\"VER DIÁRIO ORIGINAL\"\n",
      "984-(178)II SÉRIE — NÚMERO 39\"VER DIÁRIO ORIGINAL\"\n",
      "10 DE ABRIL DE 19852585CAPÍTULO II Serviço cívico Artigo 4.° (Concei o de serviço cívico)1 — Entende-se por serviço cívico adequado à situação de objector de consciência aquele que, sendo exclusivamente de natureza civil, não esteja vinculado ou subordinado a instituições militares ou militarizadas e que constitua uma participação útil em tarefas necessárias à colectividade, possibilitando uma adequada aplicação das habilitações e interesses vocacionais dos objectores.2 — O serviço cívico será organizado nos termos do diploma previsto no artigo 44.° e efectuar-se-á preferentemente nos seguintes domínios:a) Assistência em hospitais e outros estabelecimentos de saúde;b) Rastreio de doenças e acções de defesa da saúde pública;c) Luta contra o tabagismo, o alcoolismo e a droga;,d) Assistência a deficientes, crianças e idosos;e) Prevenção e combate a incêndios e socorros a náufragos;/) Assistência a populações sinistradas por cheias, terramotos, epidemias e outras calamidades;g) Primeiros socorros em casos de acidentes de viação ou que envolvam transportes colectivos;h) Manutenção, repovoamento e conservação dos parques, reservas naturais e outras áreas classificadas;í) Manutenção e construção de estradas e caminhos de interesse local;j) Protecção do meio ambiente e do património cultural e natural;/) Colaboração nas acções de estatística civil;m) Colaboração em acções de alfabetização e promoção cultural.3 — O serviço cívico poderá também ser prestado em território estrangeiro, ao abrigo de acordos de cooperação de que Portugal seja parte, desde que, para o efeito, seja dado consentimento expresso por parte do objector.4 — O regime de prestação de trabalho é o que cabe aos trabalhadores do sector em que for prestado o serviço cívico, com as adaptações previstas nos artigos 5.° a 7.\" do presente diploma.Artigo 5.°(Duração e penosidade do serviço prestado pelos objectores de consciência)O serviço cívico a prestar pelos objectores de consciência terá duração e penosidade equivalentes às do serviço militar armado.Artigo 6.° (Equiparações)3 — O regime remuneratório e de segurança social dos objectores de consciência será definido em estritoparalelismo com as disposições aplicáveis à prestação do serviço militar obrigatório.2 — O regime remuneratório inclui as prestações de alimentação e alojamento em condições equivalentes às dos cidadãos em prestação do serviço militar.3 — Os objectores de consciência gozam dos regimes de amparo, de adiamento, de interrupção, de substituição e de dispensa, nos mesmos termos que os cidadãos que devam prestar serviço militar.Artigo 7.° (Tarefas e funções do serviço cívico)1 — As autoridades competentes deverão ter em conta os interesses, a capacidade de abnegação e as habilitações literárias e profissionais do objector de consciência na definição das tarefas a incluir no serviço cívico, bem como na atribuição de funções concretas a cada objector de consciência.2 — Na definição das tarefas e na atribuição das funções a exercer em regime de serviço cívico devem ser tidas em conta as preferências manifestadas pelo interessado.Artigo 8.°(Recusa ou abandono do serviço cívico)1 — Incorre na pena prevista no n.° 3 do artigo 388.° do Código Penal aquele que, tendo obtido o estatuto de objector de consciência, se recuse à prestação do serviço cívico a que esteja obrigado nos termos da presente lei.2 — Em igual pena incorre o objector de consciência que abandone o serviço cívico a que esteja obrigado, levando-se sempre em conta, na respectiva dosimetria, o tempo de serviço prestado.3 — As penas de prisão previstas nos números anteriores não podem ser substituídas por multa.CAPÍTULO III Situação jurídica do objector de consciência Artigo 9.°(Aquisição da situação de objector de consciência)A situação de objector de consciência adquire-se por decisão judicial proferida nos termos do presente diploma, por iniciativa do interessado.Artigo 10.°(Princípio de igualdade)Os objectores de consciência gozam de todos os direitos e estão sujeitos a todos os deveres consignados na Constituição e na lei para os cidadãos em geral que não sejam incompatíveis com a situação de objector de consciência.Artigo 11.° (Convocação extraordinária e requisição)1 — Nos mesmos termos e prazos dos cidadãos que prestam serviço militar, os objectores de consciência\n",
      "27 DE ABRIL DE 19832707PROJECTO DE LEI N.e 436/111CRIAÇÃO DA FREGUESIA 0E PRAIAS 00 SAOO-SANTO OVIDtO-FARALHAO ND CONCELHO DE SETÚBALProposta de alteraçãoARTIGO 2°Os limites da freguesia de Praias do SadoSanto Ovídio-Faralhão, no concelho de Setúbal, são definidos, conforme mapa anexo, pela linha que a nascente coincide com o limite do concelho, seguindo para sudoestepelo Canal de Águas de Moura e depois para poente pelo Esteiro do Carvão, Canal da Vaia e Esteiro do Moinho, continuando deste por uma linha recta imaginária para o Moinho da Mourisca e estrada municipal n.° 536, seguindo por esta até ao entroncamento com a estrada municipal n.° 536-1, que segue para sul até à linha de caminho de ferro, acompanha até ao apeadeiro de Praias do Sado, onde retoma para •> sudoeste a estrada nacional n.u 536, continuando do termo até ao rio Sado por uma linha recta imaginária com a mesma direcção.Assembleia da República, 26 de Abril de 1985.— O Deputado do PCP, Carlos Espadinha.\n",
      "2426II SÉRIE — NÚMERO 702 — A suspensão do serviço efectivo manter-se-á até que seja proferida decisão definitiva, completando o interessado, conforme o caso, o tempo de serviço normal no serviço militar ou no serviço cívico.3 — Os cidadãos referidos na alínea c) do artigo anterior farão prova, no prazo de 120 dias a contar da data da publicação deste diploma, junto da unidade a que pertencem, quando na situação de disponibilidade, e junto do distrito de recrutamento e mobilização da área por onde foram recenseados, nas restantes situações, mediante certidão do órgão competente a quem apresentaram a petição nos termos do presente capítulo, para fins de suspensão dos efeitos de qualquer eventual convocação para o serviço militar.4 — A suspensão a que se refere o número anterior findará com a recepção pela unidade ou pelo distrito de recrutamento e mobilização respectivo da certidão da decisão definitiva que tenha negado o pedido.SECÇÃO II órgãos competentesArtigo 29.° (Comissão regional de objecção de consciência)1 — Em cada sede de distrito judicial do continente e em cada uma das regiões autónomas haverá uma comissão regional de objecção de consciência, com competência para conhecer dos pedidos para atribuição da situação de objector de consciência.2 — A comissão é constituída por um juiz de Direito a indicar pelo Conselho Superior da Magistratura, que presidirá, por um cidadão designado pelo Ministro da Defesa Nacional e por um cidadão de reconhecido mérito indicado pelo procurador-geral da República.3 — A comissão pode fazer-se assistir por pessoas de reconhecida idoneidade técnica e moral, designadamente por ministros de confissões religiosas.4 — A instalação, orgânica e pessoal, das comissões regionais será definida por portaria conjunta do Vice--Primeiro-Ministro, dos Ministros da Defesa Nacional, da justiça e das Finanças e do Plano e do Secretário de Estado da Administração Pública, a aprovar no prazo de 60 dias a contar da data da publicação da presente lei.5 — As comissões regionais de objecção de consciência funcionarão até à conclusão da apreciação dos pedidos para atribuição da situação de objector de consciência apresentados pelos cidadãos referidos no artigo 27.°, sendo então extintas mediante portaria conjunta dos membros do Governo referidos no n.° 4.Artigo 30.°(Tribunal especializado para acções relativas à objecção de consciência)1 — Em cada sede do distrito judicial do continente e em cada uma das regiões autónomas haverá um tribunal especializado para julgamento de acções em matéria de objecção de consciência a propor nos termos do presente capítulo.2 — O tribunal disporá de assessores tecnicamente qualificados para o julgamento das matérias relativas à objecção de consciência, em número de 2, que serão sorteados de entre os nomes que figuram numa lista a elaborar pelo presidente do tribunal da relação.3 — São aplicáveis aos assessores os impedimentos e suspeições constantes da lei para os juízes.4 — A intervenção dos assessores na audiência de julgamento depende de requerimento das partes.5 — Os tribunais especializados funcionarão até à conclusão do julgamento das acções em matéria de objecção de consciência a requerer nos termos do artigo 37.° pelos cidadãos referidos no artigo 27.°, sendo então extintos mediante proposta do Conselho Superior da Magistratura.SECÇÃO III Do processoArtigo 31.\" (Processo perante a comissão regional)1 — Os cidadãos referidos no artigo 27.° que pretendam a atribuição da situação de objector de consciência apresentarão na comissão regional do distrito judicial do continente ou de cada uma das regiões autónomas em cuja área tiverem a sua residência uma petição articulada e devidamente fundamentada, na qual exporão os motivos de ordem religiosa, moral ou filosófica e alegarão os factos demonstrativos da coerência do seu comportamento com esses motivos.2 — A petição será obrigatoriamente instruída com a certidão de nascimento do interessado, bem como com o seu certificado do registo criminal, podendo ser apresentados quaisquer outros documentos que possam ser úteis à apreciação do pedido.3 — Se o requerente residir no estrangeiro, é competente a Comissão Regional de Lisboa.4 — O processo é isento de custas e selos.Artigo 32.° (Termos subsequentes)1 — O presidente da comissão, se entender que a petição não se encontra devidamente fundamentada ou não contém factos essenciais à procedência do pedido, deve notificar o requerente para a corrigir em prazo não superior a 10 dias, sob pena de indeferimento.2 — Recebida a petição, o presidente designará logo data para interrogação do requerente, a fixar nos 20 dias seguintes.3 — O requerente pode fazer-se assistir por advogado ou por pessoa com formação adequada nas matérias a que se refere o artigo 1.°4 — Pode ainda o requerente apresentar até 5 testemunhas, que a comissão ouvirá após o seu interrogatório.5 — Até à data designada para o interrogatório pode o requerente apresentar pareceres jurídicos ou sobre questões religiosas, morais ou filosóficas que possam ser úteis para a apreciação do pedido.\n",
      "2602II SÉRIE — NÚMERO 77q) Participar na definição e execução das políticas fiscal, monetária, financeira e cambial, de modo a assegurar o controle regional dos meios de pagamento em circulação e o financiamento dos investimentos necessários ao seu desenvolvimento económico-social;r) Participar na definição das políticas respeitantes às águas territoriais, à zona económica exclusiva e aos fundos marinhos contíguos; 's) Pronunciar-se, por sua iniciativa ou sob consulta dos órgãos de soberania, relativamente às questões da competência destes que respeitarem à Região;t) Aprovar as competências e as orgânicas dos respectivos departamentos e serviços;u) Acordar com o Governo da República a consequente transferência de serviços e competências do Estado e a participação da Região nas receitas públicas nacionais, nos termos da Constituição e deste Estatuto;v) Exercer as demais funções executivas que lhe sejam cometidas por lei.Artigo 59.°1 — Revestem a forma de decreto regulamentar do Governo Regional os seguintes actos:a) Os previstos na alínea b) do artigo anterior, quando tal seja determinado pelo decreto legislativo regional que regulamentar;6) Os regulamentos independentes;c) Os actos presentes na alínea t) do artigo anterior.2 — Os decretos regulamentares do Governo Regional são publicados no Diário da República e no Jornal Oficial da Região.3— Os demais actos do Governo Regional e dos seus membros são publicados no Jornal Oficial da Região, nos termos definidos por decreto legislativo regional.TÍTULO IIIA soberania da República na RegiãoCAPITULO I Ministro da República Artigo 60.°1 — O Ministro da República é nomeado e exonerado pelo Presidente da República, sob proposta do Governo da República, ouvido o Conselho de Estado.2 — O Governo da República, antes de formular a sua proposta, consultará a Assembleia Regional e o Governo Regional.3 — Nas suas ausências e impedimentos, ou em caso de vacatura do cargo, o Ministro da República é substituído, na Região, pelo Presidente da Assembleia Regional.Artigo 61.°Compete ao Ministro da República:a) Abrir, em representação do Presidente da República, a primeira sessão de cada legislatura e dirigir mensagens à Assembleia Regional;b) Assinar e mandar publicar no Diário da República os decretos legislativos regionais, os decretos regulamentares regionais e os decretos regulamentares do Governo Regional;c) Exercer o direito de veto, nos termos dos artigos 278.° e 279.° da Constituição;d) Nomear, nos termos do n.° 1 do artigo 43.-°, o Presidente do Governo Regional e, sob proposta deste, nomear e exonerar o Vice-Pre-sidente, os secretários e os subsecretários;e) Coordenar a actividade dos serviços centrais do Estado no tocante aos interesses da Região;f) Superintender nas funções administrativas exercidas pelo Estado na Região e adaptá-las com as exercidas pela própria Região;g) Assegurar o governo da Região em caso de dissolução dos órgãos regionais.Artigo 62.°Para o desempenho das funções previstas na alínea e) do artigo anterior, o Ministro da República dispõe de competência ministerial e tem assento no Conselho de Ministros.CAPITULO II Representação em juízo e contencioso administrativo Artigo 63.°A Região Autónoma e os seus órgãos regionais são representados em juízo pelo Ministério Público, independentemente da faculdade de constituição de advogado.Artigo 64.°0 Supremo Tribunal Administrativo conhece em recurso dos actos administrativos definitivos e executórios, independentemente da sua forma, com fundamento em ilegalidade, bem como para obter o reconhecimento de um direito ou interesse legalmente protegido:a) Do Ministro da República;b) Da Assembleia Regional, do seu Presidente ou outros membros da Mesa;c) Do Governo Regional e dos seus membros.Artigo 65.°1 — Dos actos administrativos definitivos e executórios dos órgãos administrativos não referidos no artigo anterior caberá recurso contencioso, em primeira instância, para a competente Auditoria Administrativa, e desta para o Supremo Tribunal Administrativo, nos termos da lei.2 — Enquanto não for instalada a Auditoria Administrativa de 1.\" instância na Região Autónoma da Madeira, os tribunais comuns existentes na Região têm jurisdição plena, em primeira instância contenciosa, em todas as matérias de foro administrativo.3 — A competência territorial quanto aos processos referidos no n.° 1 é definida pelo domicílio do autor.\n",
      "2125-(58)II SÉRIE - NÚMERO 61cuidados de saúde e serviços hospitalares, violando simultaneamente o princípio da gratuitidade expresso no texto constitucional (artigo 64.°) e no artigo 7.° da Lei do Serviço Nacional de Saúde (inconstitucionalidade e ilegalidade);e) Embora as medidas consubstanciadas nos despachos em análise constassem do programa do Governo aprovado na Assembleia, tal facto não faz subtrair essas medidas de controle da constitucionalidade de acordo com os mecanismos constitucionais;f) Igualmente é irrelevante para a apreciação da inconstitucionalidade o facto de o Governo ter obtido da Assembleia da República autorização legislativa (já caducada), para revogar a Lei do Serviço Nacional de Saúde;g) Nem se diga, também, que já anteriormente existiam tabelas de preços hospitalares e taxas moderadoras, designadamente as aprovadas pelos despachos n.°s 57/80, e 58/80, de 29 de Dezembro, já que o que está em causa é o facto de, através do agravamento imoderado das taxas se pretender revogar na prática e por mero despacho, disposições legais com força constitucional e legai;h) Em conclusão, os despachos visados enfermam de inconstitucionalidade material, por disporem contra os artigos 63.° e 64.° da Constituição e artigo 7.° da Lei do Serviço Nacional de Saúde, pretendendo subtrair a lógica da gratuitidade dos serviços de saúde, que lhes está subjacente, pela obtenção do lucro na prestação dos serviços de saúde, independentemente de fazer melhorar a sua qualidade.— Antes de entrar na apreciação dos pedi-convém delimitar o seu âmbito: limitare-a nossa análise aos despachos descritos nos 2.3 a 2.7, já que os despachos n.°* 57/80 to 2.1) e 58/80 (ponto 2.2) não se encon-já em vigor, estando definida pela Comissãoo direito à saúde (artigo 64.°) devem ser considerados, pela sua inserção sistemática na parte i, como direitos fundamentais. No entanto, e diferentemente do que sucede noutros sistemas constitucionais, o direito à saúde tem um tratamento autónomo, o que significa que se perfilhou concepção diferente da aplicada noutros países, em que o direito à saúde é um dos direitos compreendidos no regime geral de segurança social. Embora não só o n.° 1 do artigo 63.\" como também o n.° 1 do artigo 64.° atribuam a todos o direito à segurança social e o direito à saúde, só o artigo 64.° — especificamente no seu n.° 2 — determina que o direito à saúde é realizado pela criação de um serviço nacional de saúde universal, geral e gratuito.Ê sabido que, em tese geral, há três concepções básicas do direito à segurança social (5): a concepção universalista, em que os direitos são atribuídos a todos os cidadãos ou residentes num país, independentemente da sua situação económica, a concepção assistencialista, em que os direitos só são atribuídos aos mais desfavorecidos; e, finalmente, a concepção laborista em que a efectivação do direito depende de prestações de carácter pecuniário, calculadas de modo a manterem um certo nível dos rendimentos do trabalho, quer através de quotizações pagas pelas pessoas protegidas ou em seu nome, por via de pagamentos directos ou de seguros.No nosso sistema constitucional o direito à segurança social (apesar da utilização da expressão «todos») cifra-se num compromisso entre a concepção assistencalista e a concepção laborista (6). Ao invés, já quanto ao direito à saúde, a concepção informadora é a universalista.O direito à segurança social é um direito distinto do direito à protecção da saúde reconhecido no n.\" 1 do artigo 64.° O direito à protecção da saúde está consagrado numa base universal. O Serviço Nacional de Saúde que, por força do mesmo artigo, é criado e não organizado pelo Estado é um serviço estatal e, em qualquer caso, organicamente separado do sistema de segurança social, por mais estreitas que devam ser as relações entre ambos (7).4dos, mostramConstitucional orientação quanto à apreciação de disposições caducas ou revogadas que torna inútil a apreciação daqueles despachos (4).Igualmente, para facilidade de exposição e unidade de tratamento de matérias, há que introduzir um factor classificativo nos depachos elencados nos pontos 2.3 a 2.7, que passarão a ser denominados: despachos 2.3 a 2.5 —«taxas moderadoras dos Serviços Médico-Sociais»; despacho 2.6 — «taxas moderadoras dos hospitais», e despacho 2.7 — «tabelas de preços dos hospitais».5 — Nos termos da Constituição em vigor, tanto o direito à segurança social (artigo 63.°) como(') Cf. sobre a utilidade prático-normativa do conhecimento actual de normas caducas ou revogadas os pareceres n.°' 27/78 (vol. vi. p. 454), n.\" 35/79 (vol. x, p. 138) e n.° 1/80 (vol. xi, pp. 28-29), todos da Comissão Constitucional.A perspectiva constitucional dicotômica do direito à saúde versus direito à segurança social foi o facto determinante da desintegração dos Serviços Médico-Sociais da antiga estrutura da Previdência Social (entendida numa perspectiva globalizante), consubstanciada no artigo 1.° do Decreto-Lei n.° 17/77, de 12 de Janeiro (8), que transferiu os Serviços Médico-Sociais da Previdência para o âmbito da Secretaria de Estado(5) Para este efeito, o entendimento de segurança social é o globalizante, abrangendo também o direito à saúde.(') Cf. António da Silva Leal, Estudos sobre a Constituição, vol. li, «O direito à Segurança Social», p. 364.(') Idem, ibidem, p. 369.(') V., também, os Decretos Regulamentares n.°' 12/77, de 7 de Fevereiro, e 65/77, de 21 dc Setembro.\n",
      "2762II SÉRIE — NÚMERO 84PROJECTO DE LEI N.» 495/111ELEVAÇÃO DE CASTANHEIRA DO RIBATEJO A CATEGORIA DE VILASendo uma das 9 freguesias de Vila Franca de Xira, Castanheira do Ribatejo tem as condições legais para a sua passagem a vila.De facto, o número de eleitores é superior a 4000 e a povoação tem os equipamentos exigidos pela Lei n.u 11/82.E de destacar, nomeadamente:Posto de assistência médica e farmácia. — Para além do posto da caixa de previdência, existe 1 laboratório de análises, 1 consultório médico e 1 farmácia;Casas do povo e de cultura. — Ê de destacar a existência de 1 rancho folclórico e de 3 grupos desportivos — grupo columbófilo, clube amador de pesca e juventude de Castanheira;Estabelecimentos comerciais e de hotelaria: 5 restaurantes; 8 cafés; 2 supermercados; 4 mercearias; 4 pronto-a-vestir.Castanheira do Ribatejo é servida por transportes públicos colectivos (RN e CP) e possui uma estação dos CTT.Em relação ao equipamento escolar, salienta-se o facto de haver 13 salas de aula para o ensino primário.Uma última palavra para os órgãos autárquicos, que já se pronunciaram, por unanimidade, pela elevação a vila de Castanheira do Ribatejo.Ê dando corpo às pretensões populares e à proposta feita pelas autarquias que os deputados abaixo assinados apresentam o seguinte projecto de lei:ARTIGO ÚNICOA povoação de Castanheira do Ribatejo, do concelho de Vila Franca de Xira, é elevada à categoria de vila.Assembleia da República, 19 de Abril de 1985. — Os Deputados do PCP: Anselmo Aníbal — Jerónimo de Sousa — Octávio Teixeira — José Magalhães — João Abrantes — Paulo Areosa.PROJECTO DE LEI N.° 496/111CRIAÇftO DA FREGUESIA DE RIO DE MOINHOS NO CONCELHO DE ALJUSTRELRio de Moinhos é uma povoação do concelho de Aljustrel, no distrito de Beja, situada a 6 km da sede do concelho, ocupando uma posição geográfica central favorável para servir uma área populacional considerável entre a freguesia de Alvalade (concelho de Santiago do Cacém) e as de Messejana e São João de Negrilhos.A criação desta freguesia é aspiração muito antiga das suas populações.A área a desanexar (40 km2) sairá da freguesia de Aljustrel, que manterá largamente os recursos indispensáveis à sua manutenção e os requisitos e pontuações exigidos por lei.Na área proposta para a nova freguesia residem 764 eleitores e a variação demográfica entre este recenseamento e o de 1979 (725 eleitores) é de +5%.O lugar possui 10 estabelecimentos comerciais variados, 2 colectividades recreativas e desportivas, 1 centro cultural de convívio, posto médico e escola de ensino básico e escolaridade obrigatória, com 6 salas de aula, e é servido por transportes colectivos diários e por serviço de automóvel de aluguer.Com o prenchimento do quadro a que se refere o artigo 5.° da Lei n.° 11/82 obtêm-se 20 pontos.Os órgãos do poder local já se pronunciaram favoravelmente pela criação da nova autarquia.Nestes termos, os deputados abaixo assinados, do Grupo Parlamentar do Partido Comunista Português, apresentam à Assembleia da República o seguinte projecto de lei:ARTIGO 1.\"Ê criada a freguesia de Rio de Moinhos no concelho de Aljustrel.ARTIGO 2.\"Os limites da nova freguesia são os constantes da carta anexa, à escala de 1:25 000, com as seguintes confrontações:A norte, os limites da freguesia de São João de Negrilhos;A nascente, desde o limite da freguesia de São João de Negrilhos, o leito da ribeira da Agua Areda até à confluência desta com o barranco de Vale de Leitão, numa extensão de 3100 nv, barranco do Vale de Leitão até à estrada nacional n.° 261, numa extensão de 2400 m; caminho vicinal desde a estrada nacional n.° 261 até ao barranco do Gavião, passando pelo monte do Brás da Gama, numa extensão de 1850m; barranco da Bispa, desde a sua confluência com o barranco do Gavião até ao limite da freguesia de Messejana (numa extensão de 2150 m);A poente, concelho de Santiago do Cacém;A sul, freguesia de Messejana, do concelho de Aljustrel.ARTIGO 3.\"Enquanto não estiverem constituídos os órgãos autárquicos da nova freguesia, a respectiva administração competirá a uma comissão instaladora, com a seguinte composição:1 membro da Assembleia Municipal de Aljustrel; 1 membro da Câmara Municipal de Aljustrel; 1 membro da Assembleia de Freguesia de Aljustrel;t membro da Junta de Freguesia de Aljustrel; 5 cidadãos eleitores da área da nova circunscrição.ARTIGO 4.\"As eleições realizar-se-ão entre o 30.° e o 90.° dia após a publicação da presente lei.Assembleia da República, 19 de Abril de 1985.— Os Deputados do PCP: Belchior Pereira — João Paulo — Custódio Gingão — Vidigal Amaro — Francisco Miguel.\n",
      "1276II SÉRIE — NÚMERO 48à compra de aJgumas viaturas. Porém, tendo em conta que os conflitos sociais atingem uma amplitude muito grande, que a Inspecção-Geral do Trabalho é, cada vez mais, chamada a intervir nessas situações de conflitos, este orçamento — tendo em conta a própria inflação — poderá ser considerado como um orçamento de manutenção e não como a resolução necessária a um reforço e a uma dinamização da própria Inspecção do Trabalho, em relação à prevenção e repressão das violações, à legalidade e aos direitos dos trabalhadores.Assim, gostaria de colocar novamente a questão no sentido de saber se o Sr. Ministro considera que mais 30 000 contos vão resolver os problemas da Inspecção do Trabalho. Neste caso concreto, não valeria a pena conseguir mais alguma verba, não só para a compra de viaturas mas mesmo para a operacionalidade dos serviços a fim de que tivéssemos uma Inspecção do Trabalho eficaz, operacional que pudesse resolver as situações.Gostaria ainda de colocar uma outra questão que diz respeito à higiene e à segurança no trabalho. Infelizmente, a higiene e a segurança no trabalho continuam, hoje em dia, a ser o parente pobre em termos das preocupações prioritárias do Ministério do Trabalho e Segurança Social.Em nossa opinião, a verba estipulada para esse fim é curta, é magra, é também um orçamento de manutenção. Mas lembrando os conceitos programáticos de VV. Ex.as e os anúncios na Assembleia da República, pensamos que há uma contradição perante a escassez da verba. Os membros do Ministério do Trabalho e Segurança Social consideram suficiente a verba destinada à Direcção-Geral de Higiene e Segurança no Trabalho?O Sr. Presidente: — Tem a palavra o Sr. Deputado Nogueira de Brito.O Sr. Nogueira de Brito (CDS): — Srs. Membros do Governo, pelo orçamento da Secretaria de Estado do Trabalho verifico que não há alterações orgânicas em perspectiva. Mais: verifico que a Direcção-Geral das Relações Colectivas de Trabalho aparece com uma dotação que é a mais substancial a seguir à Inspecção--Geral do Trabalho.Ora, isto corresponde ao plano orgânico do Sr. Ministro para o seu Ministério no ano de 1985? Isto é, pensa o Sr. Ministro manter a Direcção-Geral das Relações Colectivas de Trabalho? Pensa que a Direcção-Geral das Relações Colectivas de Trabalho, com a sua estrutura nacional e regional, designadamente distrital, é uma estrutura útil do ponto de vista do desenvolvimento da acção do Ministério?Esta era, pois, a primeira questão que gostaria de colocar e que se prende com a Secretaria de Estado do Trabalho.A segunda questão que gostaria de colocar prende--se com a Secretaria de Estado do Emprego. Verifica--se que a Secretaria de Estado do Emprego tem apenas uma dotação para o Gabinete do Sr. Secretário de Estado, dotação essa que é, aliás, igual à do Sr. Secretário de Estado do Trabalho.Verifica-se, pois, que a Secretaria de Estado do Trabalho continua, fundamentalmente, a viver sobre o Instituto do Emprego e Formação Profissional. Portanto, toda a actuação da Secretaria de Estado é desenvolvida através do Instituto do Emprego e Formação Pro-fissional. Sr. Ministro, não existe a ideia de alterar esta situação, isto é, através de um sistema transparente, permitir que, na realidade, se dotasse a Secretaria de Estado de serviços que estivessem contemplados no Orçamento do Estado e fazê-la funcionar de uma forma mais equiparada aos restantes departamentos do Ministério?O Sr. Presidente: — Tem a palavra o Sr. Deputado João Corregedor da Fonseca.O Sr. João Corregedor da Fonseca (MDP/CDE): — Sr. Ministro, verifica-se que a Inspecção do Trabalho tem uma maior dotação.Perante as dúvidas levantadas pelo Sr. Deputado Jerónimo de Sousa e considerando a importância desta Inspecção-Geral do Trabalho, nomeadamente no problema relacionado com empresas que não pagam salários e não só, gostaria que o Sr. Ministro fizesse o favor de explicar para que fins se destina uma verba de 13 500 contos da Inspecção Geral do Trabalho para a aquisição de serviços não especificados. Se há um quadro para estes serviços não especificados, que tipo de actuação vai ser desenvolvido com esta verba de 13 500 contos?O Sr. Presidente: — Tem a palavra o Sr. Deputado Ruben Raposo.O Sr. Ruben Raposo (ASDI): — Sr. Presidente, Srs. Deputados, Srs. Membros do Governo: Gostaria de intervir, nesta primeira fase, a fim de pedir ao Sr. Ministro o favor de esclarecer as verbas que estão previstas no Ministério do Trabalho e Segurança Social, nomeadamente para o Departamento para os Assuntos do Fundo Social Europeu.Como VV. Ex.\" sabem, o Departamento do Fundo Social Europeu tem de estar articulado com a nossa adesão à Comunidade Económica Europeia. Se se verificar a nossa adesão à CEE durante o ano de 1986, teremos de apresentar projectos e programas em matéria de formação profissional, durante o segundo semestre do ano de 1985, para poderem ser contemplados, em Bruxelas, de acordo com as prioridades da CEE. Ora, esses projectos têm de ser financiados, quer pelos promotores privados, quer pelos promotores públicos, quer pelo Estado Português, e o remanescente, que será à volta de 50 pela Comunidade Económica Europeia.Gostaria, pois, de saber se a verba que é apresentada — e que me parece exígua —, foi pensada só em termos de pagamento de salários, portanto, de manutenção do Fundo Social Europeu, ou se, pelo contrário, já há alguns programas, alguns gastos ou alguma previsão em matéria de despesas com o financiamento de empresas para compra de serviços, de programas e projectos, para que estes possam ser realizados e apresentados em Bruxelas a tempo e horas, a fim de serem contemplados no ano económico de 1986.Em traços gerais, é esta a questão que gostaria de ver esclarecida.O Sr. Presidente: — Tem a palavra o Sr. Deputado Vítor Hugo Sequeira.O Sr. Vítor Hugo Sequeira (PS): — Sr. Ministro, aquando da introdução à discussão na generalidade da\n",
      "1 DE MARÇO DE 19852125-(87)ê que no Direito Administrativo Português vigente não existe o instituto da uniformização da jurisprudência dos tribunais civis ou criminais, por via de assentos, nos termos dos artigos 763.° a 770.° do Código de Processo Civil, assentos esses que têm força obrigatória geral (artigo 2.° do Código Civil).0 problema da aplicação genérica daquela interpretação a casos idênticos não cobertos pela força de caso julgado não pode, por isso, pôr-se no campo da legalidade estrita, mas, sim, em sede da justiça da Administração, que tudo deverá fazer para que casos iguais recebam igualdade de tratamento em face dos mesmos textos legais.£ afigura-se ser a interpretação indicada em 3 a mais correcta, e, até, a única razoável e legítima, pelas razões que se indicam naqueles arestos e dos quais devem existir cópias ou fotocópias no processo de aposentação de B ...Nestes termos, e porque ao Provedor de Justiça incumbe assegurar, além da legalidade, a justiça da Administração Pública —artigo 1.° da Lei ri.° 81/77, de 22 de Novembro—, tenho a honra de, ao abrigo da alínea o) do artigo 18.° da mesma lei, formular a seguinte recomendação:Que sejam reanalisados, à luz da jurisprudência fixada no Acórdão de 9 de Novembro de 1983, do Supremo Tribunal Administrativo, funcionado em tribunal pleno, e proferido no processo de recurso contencioso n.° 12 369, respeitante a B..., todos os processos de aposentação (provisória ou definitiva) de antigos administradores de concelho das ex-colónias em que haja sido excluída, para efeitos de cálculo das respectivas pensões, a gratificação por eles recebida pelo exercício de funções de presidentes dos corpos administrativos, procedendo-se, se for caso disso, às rectificações que forem devidas em concordância com aquela jurisprudência.5 — Muito agradeço que essa administração me in-informe da resolução que a este assunto vier a ser dada.XV) Assunto: Recrutas militares. Reserva territorial. Acto revogatórioProcessos n.°s 82/R-2213-B-1 e 83/R-291-B-1Chefe do Estador-Maior do Exército:1 — Em resposta aos ofícios n.\"5 4924, de 8 de Abril de 1983, e 6394, de 16 de Maio de 1983, o Gabinete do Chefe do Estado-Maior do Exército esclareceu, a coberto dos ofícios n.ÜS 2683, de 10 de Maio de 1983, e 3626, de 23 de Junho de 1983, o seguinte:1) O recruta A... transitou indevidamente para a reserva territorial em 1 de Janeiro de 1981;2) Foi incorporado no Regimento de infantaria do Porto em 8 de Outubro de 1982;3) Está abrangido pelo despacho do general aju-dante-general do Exército de 12 de Maio de 1982, encontrando-se na situação de licença registada até à decisão dos processos de justiça.4) O recruta B... passou à situação de reserva territorial em 1 de Janeiro de 1981 e foi incorporado após o despacho de 12 de Maio de 1982.2 — Com base nas informações prestadas, constata-se que aqueles recrutas transitaram para a reserva territorial em 1 de Janeiro de 1981, transição essa que reveste a natureza de acto constitutivo de direitos.3 — Mesmo a admitir-se que o acto de transição em causa foi lavrado com manifesto erro de facto sobre os pressupostos, ou seja, que ficou afectado por algum vício que o tornou ilegal, a revogação do mesmo acto apenas poderia ter validamente lugar no prazo fixado pela lei para a interposição de recurso contencioso ou até à interposição dele, prazo esse que é de 1 ano, nos termos do disposto no artigo 18.°, n.\" 2 da Lei Orgânica do Supremo Tribunal Administrativo e nos artigos 51.°, n.° 4 e 52.°, § 4.°, ambos do Regulamento do Supremo Tribunal Administrativo.4 — Ora, sucede que o acto de transição de 1 de Janeiro de 1981 apenas foi revogado no seguimento do despacho do general ajudante-general datado de 12 de Maio de 1982, e os recrutas A... e B... incorporados depois de Maio de 1982. A revogação do alegado acto de transição ilegal operou-se, portanto, depois de expirado o prazo legalmente estipulado (1 ano) para a revogação dos actos constitutivos ilegais, conforme, expressamente, reconhece o Estado-Maior do Exército nos ofícios de 10 de Maio e 23 de Junho de 1983.Nestes termos, permito-me formular a V. Ex.\\ ao abrigo do disposto no artigo 18.°, n.° 1, alínea o), da Lei n.° 81/77, de 22 de Novembro, a seguinte recomendação:Que sejam revistas as situações militares dos recrutas A... e B..., em virtude de se ter apurado que o despacho revogatório do acto de transição ilegal dos mesmos para a reserva territorial foi proferido depois de decorrido o prazo de 1 ano previsto na lei para a revogação dos actos constitutivos de direitos afectados de ilegalidade.Agradeço me seja informado sobre a sequência que merecer a presente recomendação.XVI) Assunto: Direito de reunião. Igreja EvangélicaProcesso n.° 82/R-1852-B-1Presidente da Câmara Municipal da Póvoa de Varzim:1 — Em referência à matéria exposta no ofício dessa Câmara Municipal n.\" D-l/85, de 9 de Fevereiro de 1984, e expediente anexo, comunico que, após análise do assento, se concluiu o seguinte:a) O artigo 14.° do Decreto-Lei n.° 406/74, dc 29 de Agosto, define a competência dos tribunais ordinários para a apreciação das decisões das autoridades tomadas com violação do diploma, mas tal não significa falta de competência do Provedor de Justiça para a análise do caso, já que, nos termos da lei, a sua actuação é independente dos meios graciosos e contenciosos (artigo 3.° da Lei n.° 81/77, de\n"
     ]
    }
   ],
   "source": [
    "for line in lines[:10]:\n",
    "    print(line)"
   ]
  },
  {
   "cell_type": "markdown",
   "metadata": {},
   "source": [
    "### Train the tokenizer"
   ]
  },
  {
   "cell_type": "code",
   "execution_count": 10,
   "metadata": {},
   "outputs": [
    {
     "name": "stdout",
     "output_type": "stream",
     "text": [
      "\n",
      "\n",
      "\n"
     ]
    }
   ],
   "source": [
    "tokenizer_pt = train_tokenizer(tokenizer, lines)"
   ]
  },
  {
   "cell_type": "markdown",
   "metadata": {},
   "source": [
    "Check the number of tokens with this tokenizer."
   ]
  },
  {
   "cell_type": "code",
   "execution_count": 11,
   "metadata": {},
   "outputs": [
    {
     "name": "stdout",
     "output_type": "stream",
     "text": [
      "Number of tokens in with original tokenizer: 13\n",
      "Number of tokens with new tokenizer: 12\n"
     ]
    }
   ],
   "source": [
    "pt_tkns = tokenizer.tokenize(\"Olá, eu sou uma frase simples!\")\n",
    "print(f\"Number of tokens in with original tokenizer: {len(pt_tkns)}\")\n",
    "\n",
    "pt_tkns = tokenizer_pt.tokenize(\"Olá, eu sou uma frase simples!\")\n",
    "print(f\"Number of tokens with new tokenizer: {len(pt_tkns)}\")\n"
   ]
  },
  {
   "cell_type": "markdown",
   "metadata": {},
   "source": [
    "This is good. The number of tokens with the new tokenizer is lower than the original one. \n",
    "\n",
    "What are the tokens in new tokenizer that are not on the original?"
   ]
  },
  {
   "cell_type": "code",
   "execution_count": 12,
   "metadata": {},
   "outputs": [],
   "source": [
    "vocab_org = tokenizer.vocab.keys()\n",
    "vocab_new = tokenizer_pt.vocab.keys()"
   ]
  },
  {
   "cell_type": "code",
   "execution_count": 13,
   "metadata": {},
   "outputs": [
    {
     "name": "stdout",
     "output_type": "stream",
     "text": [
      "Number of new tokens: 25186\n",
      "(some) New tokens: ['cumprimento', 'Ġcontrato', 'Ġprolongada', 'Ġfacultar', 'Ġcreditando', 'Ġgerar', 'Ġges', 'BDisc', 'nter', 'giu']\n"
     ]
    }
   ],
   "source": [
    "new_tokens = list(set(vocab_new) - set(vocab_org))\n",
    "print(f\"Number of new tokens: {len(new_tokens)}\")\n",
    "print(f\"(some) New tokens:\\n{new_tokens[:10]}\")"
   ]
  },
  {
   "cell_type": "markdown",
   "metadata": {},
   "source": [
    "This are pretty frquent portuguese words that were missing from the original vocab. Lets now try to add the new tokens to the original vocab."
   ]
  },
  {
   "cell_type": "code",
   "execution_count": 14,
   "metadata": {},
   "outputs": [
    {
     "name": "stdout",
     "output_type": "stream",
     "text": [
      "A sample of the tokens to be added:\n",
      "['cumprimento', 'Ġcontrato', 'Ġprolongada', 'Ġfacultar', 'Ġcreditando', 'Ġgerar', 'Ġges', 'BDisc', 'nter', 'giu', 'Ġequiparado', 'reas', 'Ġsurpreender', 'demos', 'Ġremetido']\n"
     ]
    }
   ],
   "source": [
    "print(f\"A sample of the tokens to be added:\\n{new_tokens[:15]}\")"
   ]
  },
  {
   "cell_type": "markdown",
   "metadata": {},
   "source": [
    "Lets first take one token as an example and see how it would be tokenized by the oroginal tokenizer."
   ]
  },
  {
   "cell_type": "code",
   "execution_count": 55,
   "metadata": {},
   "outputs": [
    {
     "data": {
      "text/plain": [
       "' contrato'"
      ]
     },
     "execution_count": 55,
     "metadata": {},
     "output_type": "execute_result"
    }
   ],
   "source": [
    "example = new_tokens[1]\n",
    "example = \" contrato\"\n",
    "example"
   ]
  },
  {
   "cell_type": "code",
   "execution_count": 65,
   "metadata": {},
   "outputs": [
    {
     "name": "stdout",
     "output_type": "stream",
     "text": [
      "Previous tokens: ['Ġcontr', 'ato']\n",
      "New token: Ġcontrato\n"
     ]
    }
   ],
   "source": [
    "tokens = tokenizer.tokenize(example)\n",
    "print(f\"Previous tokens: {tokens}\")\n",
    "\n",
    "new_token = \"\".join(tokens)\n",
    "print(f\"New token: {new_token}\")\n"
   ]
  },
  {
   "cell_type": "markdown",
   "metadata": {},
   "source": [
    "Lets now get the embeddings for this tokens."
   ]
  },
  {
   "cell_type": "code",
   "execution_count": 66,
   "metadata": {},
   "outputs": [
    {
     "data": {
      "text/plain": [
       "[3445, 5549]"
      ]
     },
     "execution_count": 66,
     "metadata": {},
     "output_type": "execute_result"
    }
   ],
   "source": [
    "token_ids = tokenizer.convert_tokens_to_ids(tokens)\n",
    "token_ids"
   ]
  },
  {
   "cell_type": "code",
   "execution_count": 67,
   "metadata": {},
   "outputs": [
    {
     "data": {
      "text/plain": [
       "tensor([[-0.0078,  0.0262,  0.0003,  ...,  0.0161,  0.0155, -0.0227],\n",
       "        [ 0.0025,  0.0034, -0.0124,  ..., -0.0029, -0.0109,  0.0031]],\n",
       "       grad_fn=<EmbeddingBackward0>)"
      ]
     },
     "execution_count": 67,
     "metadata": {},
     "output_type": "execute_result"
    }
   ],
   "source": [
    "model = llm.base_model\n",
    "token_embs = model.embed_tokens(torch.tensor(token_ids))\n",
    "token_embs"
   ]
  },
  {
   "cell_type": "code",
   "execution_count": 68,
   "metadata": {},
   "outputs": [
    {
     "data": {
      "text/plain": [
       "tensor([-0.0026,  0.0148, -0.0060,  ...,  0.0066,  0.0023, -0.0098],\n",
       "       grad_fn=<MeanBackward1>)"
      ]
     },
     "execution_count": 68,
     "metadata": {},
     "output_type": "execute_result"
    }
   ],
   "source": [
    "token_embs_agg = token_embs.mean(dim=0)\n",
    "token_embs_agg"
   ]
  },
  {
   "cell_type": "markdown",
   "metadata": {},
   "source": [
    "Lets add this a new token to the tokenizer and the new embedding to the model."
   ]
  },
  {
   "cell_type": "code",
   "execution_count": 62,
   "metadata": {},
   "outputs": [
    {
     "name": "stdout",
     "output_type": "stream",
     "text": [
      "Number of tokens before adding the token: 50298\n"
     ]
    }
   ],
   "source": [
    "print(f\"Number of tokens before adding the token: {len(tokenizer)}\")"
   ]
  },
  {
   "cell_type": "code",
   "execution_count": 69,
   "metadata": {},
   "outputs": [
    {
     "name": "stdout",
     "output_type": "stream",
     "text": [
      "New token id: 50295\n"
     ]
    }
   ],
   "source": [
    "tokenizer.add_tokens([new_token])\n",
    "new_token_id = tokenizer.vocab[new_token]\n",
    "print(f\"New token id: {new_token_id}\")\n"
   ]
  },
  {
   "cell_type": "code",
   "execution_count": 71,
   "metadata": {},
   "outputs": [
    {
     "data": {
      "text/plain": [
       "['Ġcontr', 'ato']"
      ]
     },
     "execution_count": 71,
     "metadata": {},
     "output_type": "execute_result"
    }
   ],
   "source": [
    "tokenizer.tokenize(example)"
   ]
  },
  {
   "cell_type": "code",
   "execution_count": 73,
   "metadata": {},
   "outputs": [
    {
     "data": {
      "text/plain": [
       "['O', 'Ġtip', 'o', 'Ġn', 'ao', 'Ġtem', 'Ġcontr', 'ato']"
      ]
     },
     "execution_count": 73,
     "metadata": {},
     "output_type": "execute_result"
    }
   ],
   "source": [
    "tokenizer.tokenize(\"O tipo nao tem contrato\")"
   ]
  },
  {
   "cell_type": "code",
   "execution_count": 24,
   "metadata": {},
   "outputs": [
    {
     "data": {
      "text/plain": [
       "50296"
      ]
     },
     "execution_count": 24,
     "metadata": {},
     "output_type": "execute_result"
    }
   ],
   "source": [
    "len(tokenizer)"
   ]
  },
  {
   "cell_type": "markdown",
   "metadata": {},
   "source": [
    "The new token has been added with token id 50295. Now we need to add that id to the model."
   ]
  },
  {
   "cell_type": "code",
   "execution_count": 25,
   "metadata": {},
   "outputs": [
    {
     "data": {
      "text/plain": [
       "torch.nn.modules.sparse.Embedding"
      ]
     },
     "execution_count": 25,
     "metadata": {},
     "output_type": "execute_result"
    }
   ],
   "source": [
    "embed = model.embed_tokens\n",
    "type(embed)"
   ]
  },
  {
   "cell_type": "markdown",
   "metadata": {},
   "source": [
    "Miss match between the embeddings and the vocab size explained in this [chat](https://huggingface.co/bigscience/bloom/discussions/120)."
   ]
  },
  {
   "cell_type": "code",
   "execution_count": 26,
   "metadata": {},
   "outputs": [
    {
     "name": "stdout",
     "output_type": "stream",
     "text": [
      "Shape of weight matrix: torch.Size([51200, 2048])\n"
     ]
    }
   ],
   "source": [
    "weight = embed.weight.data\n",
    "print(f\"Shape of weight matrix: {weight.shape}\")"
   ]
  },
  {
   "cell_type": "code",
   "execution_count": 27,
   "metadata": {},
   "outputs": [
    {
     "name": "stdout",
     "output_type": "stream",
     "text": [
      "Shape of weight matrix: torch.Size([51201, 2048])\n"
     ]
    }
   ],
   "source": [
    "# add new tokens to the model\n",
    "weight = torch.cat([weight, token_embs_agg.unsqueeze(0)], dim=0)\n",
    "print(f\"Shape of weight matrix: {weight.shape}\")"
   ]
  },
  {
   "cell_type": "code",
   "execution_count": 28,
   "metadata": {},
   "outputs": [],
   "source": [
    "weight[new_token_id] = token_embs_agg"
   ]
  },
  {
   "cell_type": "code",
   "execution_count": 29,
   "metadata": {},
   "outputs": [],
   "source": [
    "embed.weight.data = weight"
   ]
  },
  {
   "cell_type": "code",
   "execution_count": 30,
   "metadata": {},
   "outputs": [],
   "source": [
    "assert  torch.equal(llm.model.embed_tokens(torch.tensor(new_token_id)), token_embs_agg)"
   ]
  },
  {
   "cell_type": "markdown",
   "metadata": {},
   "source": [
    "Lets now test if this reduces the preplexity of the model."
   ]
  },
  {
   "cell_type": "code",
   "execution_count": 31,
   "metadata": {},
   "outputs": [],
   "source": [
    "llm_original = AutoModelForCausalLM.from_pretrained(MODEL)\n"
   ]
  },
  {
   "cell_type": "code",
   "execution_count": 32,
   "metadata": {},
   "outputs": [],
   "source": [
    "tokenizer_original = AutoTokenizer.from_pretrained(MODEL)"
   ]
  },
  {
   "cell_type": "code",
   "execution_count": 33,
   "metadata": {},
   "outputs": [
    {
     "data": {
      "text/plain": [
       "tensor(72.2419, grad_fn=<ExpBackward0>)"
      ]
     },
     "execution_count": 33,
     "metadata": {},
     "output_type": "execute_result"
    }
   ],
   "source": [
    "compute_perplexity(llm_original, tokenizer_original, \"Olá, eu sou uma frase simples com a palavra incapacidade!\")"
   ]
  },
  {
   "cell_type": "code",
   "execution_count": 34,
   "metadata": {},
   "outputs": [
    {
     "data": {
      "text/plain": [
       "tensor(248.0512, grad_fn=<ExpBackward0>)"
      ]
     },
     "execution_count": 34,
     "metadata": {},
     "output_type": "execute_result"
    }
   ],
   "source": [
    "compute_perplexity(llm, tokenizer, \"Olá, eu sou uma frase simples com a palavra incapacidade!\")"
   ]
  },
  {
   "cell_type": "code",
   "execution_count": 35,
   "metadata": {},
   "outputs": [
    {
     "data": {
      "text/plain": [
       "['Ol',\n",
       " 'Ã¡',\n",
       " ',',\n",
       " 'Ġe',\n",
       " 'u',\n",
       " 'Ġsou',\n",
       " 'Ġu',\n",
       " 'ma',\n",
       " 'Ġfr',\n",
       " 'ase',\n",
       " 'Ġsim',\n",
       " 'ples',\n",
       " 'Ġcom',\n",
       " 'Ġa',\n",
       " 'Ġpal',\n",
       " 'av',\n",
       " 'ra',\n",
       " 'Ġincapac',\n",
       " 'id',\n",
       " 'ade',\n",
       " '!']"
      ]
     },
     "execution_count": 35,
     "metadata": {},
     "output_type": "execute_result"
    }
   ],
   "source": [
    "test_sentence = \"Olá, eu sou uma frase simples com a palavra incapacidade!\"\n",
    "tokenizer_original.tokenize(test_sentence)"
   ]
  },
  {
   "cell_type": "code",
   "execution_count": 36,
   "metadata": {},
   "outputs": [
    {
     "data": {
      "text/plain": [
       "['Ol',\n",
       " 'Ã¡',\n",
       " ',',\n",
       " 'Ġe',\n",
       " 'u',\n",
       " 'Ġsou',\n",
       " 'Ġu',\n",
       " 'ma',\n",
       " 'Ġfr',\n",
       " 'ase',\n",
       " 'Ġsim',\n",
       " 'ples',\n",
       " 'Ġcom',\n",
       " 'Ġa',\n",
       " 'Ġpal',\n",
       " 'av',\n",
       " 'ra',\n",
       " 'Ġ',\n",
       " 'incapacidade',\n",
       " '!']"
      ]
     },
     "execution_count": 36,
     "metadata": {},
     "output_type": "execute_result"
    }
   ],
   "source": [
    "tokenizer.tokenize(test_sentence)"
   ]
  },
  {
   "cell_type": "code",
   "execution_count": null,
   "metadata": {},
   "outputs": [],
   "source": []
  }
 ],
 "metadata": {
  "kernelspec": {
   "display_name": "Python 3",
   "language": "python",
   "name": "python3"
  },
  "language_info": {
   "codemirror_mode": {
    "name": "ipython",
    "version": 3
   },
   "file_extension": ".py",
   "mimetype": "text/x-python",
   "name": "python",
   "nbconvert_exporter": "python",
   "pygments_lexer": "ipython3",
   "version": "3.11.7"
  }
 },
 "nbformat": 4,
 "nbformat_minor": 2
}
